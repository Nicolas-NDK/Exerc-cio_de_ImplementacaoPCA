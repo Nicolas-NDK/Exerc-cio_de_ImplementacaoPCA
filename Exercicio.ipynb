{
  "cells": [
    {
      "cell_type": "markdown",
      "source": [
        "Nicolas Rodrigues de Souza Quintanilha Mat:201920173\n",
        "/ Joao Pedro Carvalho Albino Matg 202010424"
      ],
      "metadata": {
        "id": "-Ss73i8jKz1_"
      },
      "id": "-Ss73i8jKz1_"
    },
    {
      "cell_type": "code",
      "source": [
        "from sklearn.model_selection import train_test_split\n",
        "from sklearn.decomposition import PCA\n",
        "from sklearn.tree import DecisionTreeClassifier\n",
        "from sklearn.datasets import load_iris\n",
        "\n",
        "data = load_iris()\n",
        "X = data.data\n",
        "y = data.target\n",
        "\n",
        "X_train, X_test, y_train, y_test = train_test_split(X, y, test_size=0.30, random_state=30)\n",
        "\n",
        "model_dt = DecisionTreeClassifier()\n",
        "\n",
        "model_dt.fit(X_train, y_train)\n",
        "\n",
        "accuracy = model_dt.score(X_test, y_test)\n",
        "print(\"Accuracy:\", accuracy)"
      ],
      "metadata": {
        "colab": {
          "base_uri": "https://localhost:8080/"
        },
        "id": "n2mfs_TMKMGw",
        "outputId": "cd9f66cb-3ca6-4463-90ef-3979401d3a2e"
      },
      "id": "n2mfs_TMKMGw",
      "execution_count": 6,
      "outputs": [
        {
          "output_type": "stream",
          "name": "stdout",
          "text": [
            "Accuracy: 0.9555555555555556\n"
          ]
        }
      ]
    },
    {
      "cell_type": "code",
      "source": [
        "data = load_iris()\n",
        "X = data.data\n",
        "y = data.target\n",
        "\n",
        "pca = PCA(n_components=2)\n",
        "X_pca = pca.fit_transform(X)\n",
        "\n",
        "X_train_pca, X_test_pca, y_train, y_test = train_test_split(X_pca, y, test_size=0.30, random_state=30)\n",
        "\n",
        "model_tree = DecisionTreeClassifier()\n",
        "\n",
        "model_tree.fit(X_train_pca, y_train)\n",
        "\n",
        "accuracy = model_tree.score(X_test_pca, y_test)\n",
        "print(\"Accuracy:\", accuracy)"
      ],
      "metadata": {
        "colab": {
          "base_uri": "https://localhost:8080/"
        },
        "id": "EqpmA1uuK6mn",
        "outputId": "fd33b106-0ba1-4226-8fe7-bcdb4f1573a1"
      },
      "id": "EqpmA1uuK6mn",
      "execution_count": 7,
      "outputs": [
        {
          "output_type": "stream",
          "name": "stdout",
          "text": [
            "Accuracy: 0.9777777777777777\n"
          ]
        }
      ]
    }
  ],
  "metadata": {
    "kernelspec": {
      "display_name": "Python 3 (ipykernel)",
      "language": "python",
      "name": "python3"
    },
    "language_info": {
      "codemirror_mode": {
        "name": "ipython",
        "version": 3
      },
      "file_extension": ".py",
      "mimetype": "text/x-python",
      "name": "python",
      "nbconvert_exporter": "python",
      "pygments_lexer": "ipython3",
      "version": "3.9.12"
    },
    "colab": {
      "provenance": []
    }
  },
  "nbformat": 4,
  "nbformat_minor": 5
}